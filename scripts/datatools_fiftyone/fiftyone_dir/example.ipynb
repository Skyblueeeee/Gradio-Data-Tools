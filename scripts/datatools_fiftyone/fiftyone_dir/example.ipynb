{
 "cells": [
  {
   "cell_type": "markdown",
   "id": "636f43a3",
   "metadata": {},
   "source": [
    "\n",
    "# 欢迎大家贡献好的代码样例"
   ]
  },
  {
   "cell_type": "markdown",
   "id": "330ff102",
   "metadata": {},
   "source": [
    "## 筛选面积小的标签"
   ]
  },
  {
   "cell_type": "code",
   "execution_count": null,
   "id": "1924ac3f",
   "metadata": {},
   "outputs": [],
   "source": [
    "bbox_area = (\n",
    "    F(\"$metadata.width\") * F(\"bounding_box\")[2] *\n",
    "    F(\"$metadata.height\") * F(\"bounding_box\")[3]\n",
    ")\n",
    "small_boxes = bbox_area < 32 ** 2\n",
    "small_boxes_view = session.dataset.filter_labels(\"predictions\", small_boxes, only_matches=False)"
   ]
  },
  {
   "cell_type": "markdown",
   "id": "d48b2b2d",
   "metadata": {},
   "source": [
    "## 正则表达式筛选标签"
   ]
  },
  {
   "cell_type": "code",
   "execution_count": null,
   "id": "133ce27a",
   "metadata": {},
   "outputs": [],
   "source": [
    "session.dataset.filter_labels(\"predictions\", F(\"label\").re_match(\"test\"), only_matches=False)"
   ]
  },
  {
   "cell_type": "markdown",
   "id": "8cc95d94",
   "metadata": {},
   "source": [
    "## 筛选多个标签"
   ]
  },
  {
   "cell_type": "code",
   "execution_count": null,
   "id": "c6a39916",
   "metadata": {},
   "outputs": [],
   "source": [
    "session.dataset.filter_labels(\"predictions\", F(\"label\").is_in([\"test1\", \"test2\"]), only_matches=False)"
   ]
  }
 ],
 "metadata": {
  "kernelspec": {
   "display_name": "Python 3 (ipykernel)",
   "language": "python",
   "name": "python3"
  },
  "language_info": {
   "codemirror_mode": {
    "name": "ipython",
    "version": 3
   },
   "file_extension": ".py",
   "mimetype": "text/x-python",
   "name": "python",
   "nbconvert_exporter": "python",
   "pygments_lexer": "ipython3",
   "version": "3.8.8"
  }
 },
 "nbformat": 4,
 "nbformat_minor": 5
}
